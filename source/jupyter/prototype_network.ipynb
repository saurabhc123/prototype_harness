{
 "cells": [
  {
   "cell_type": "code",
   "execution_count": null,
   "metadata": {},
   "outputs": [],
   "source": [
    "import gensim\n",
    "import numpy as np\n",
    "import string\n",
    "import tensorflow as tf\n",
    "import Placeholders\n",
    "import datetime\n",
    "import random as random"
   ]
  },
  {
   "cell_type": "code",
   "execution_count": null,
   "metadata": {},
   "outputs": [],
   "source": [
    "with tf.Session() as sess:\n",
    "    x = tf.add(3,4).eval()\n",
    "    print(x)"
   ]
  },
  {
   "cell_type": "code",
   "execution_count": null,
   "metadata": {},
   "outputs": [],
   "source": [
    "x = Placeholders.sentence\n",
    "y_ = Placeholders.class_labels\n",
    "c = Placeholders.class_centroids"
   ]
  },
  {
   "cell_type": "code",
   "execution_count": null,
   "metadata": {},
   "outputs": [],
   "source": []
  },
  {
   "cell_type": "code",
   "execution_count": null,
   "metadata": {},
   "outputs": [],
   "source": [
    "def get_cluster_based_labels(fc_layer_representation):\n",
    "    label_to_cluster_map = lambda x:  c[x]\n",
    "    indexed_centroids = tf.map_fn(label_to_cluster_map, y_)\n",
    "    x_distances = np.exp(-(numpy.linalg.norm(x - indexed_centroids)))\n",
    "    sum_x_distances = np.log(np.sum(x_distances))\n",
    "    logits = np.divide(x_distances, sum_x_distances)\n",
    "    return logits\n",
    "    "
   ]
  },
  {
   "cell_type": "code",
   "execution_count": null,
   "metadata": {},
   "outputs": [],
   "source": []
  },
  {
   "cell_type": "code",
   "execution_count": null,
   "metadata": {},
   "outputs": [],
   "source": []
  },
  {
   "cell_type": "code",
   "execution_count": null,
   "metadata": {},
   "outputs": [],
   "source": [
    "def one_hot(vec, vals=Placeholders.n_classes):\n",
    "    n = vec.shape[1]\n",
    "    print (\"len\",n)\n",
    "    out = np.zeros((n, vals))\n",
    "    out[np.arange(n), vec] = 1\n",
    "    return out"
   ]
  },
  {
   "cell_type": "code",
   "execution_count": null,
   "metadata": {},
   "outputs": [],
   "source": [
    "def train(sess):\n",
    "    hidden1 =tf.layers.dense(Placeholders.sentence, Placeholders.hidden1_neurons)\n",
    "    hidden2 =tf.layers.dense(Placeholders.sentence, Placeholders.hidden2_neurons)\n",
    "    cluster_based_labels = hidden2#get_cluster_based_labels(hidden2)\n",
    "    logits = tf.layers.dense(cluster_based_labels, Placeholders.n_classes)\n",
    "    cross_entropy = tf.reduce_mean(tf.nn.softmax_cross_entropy_with_logits(logits= logits,\n",
    "                                                                   labels=Placeholders.class_labels))\n",
    "    loss = tf.reduce_mean(cross_entropy)\n",
    "    train_step = tf.train.AdamOptimizer(1e-5).minimize(loss)\n",
    "\n",
    "    correct_prediction = tf.equal(tf.argmax(logits, 1), tf.argmax(Placeholders.class_labels, 1))\n",
    "    accuracy = tf.reduce_mean(tf.cast(correct_prediction, tf.float32))\n",
    "    \n",
    "    STEPS = 3000\n",
    "    MINIBATCH_SIZE = 20\n",
    "    \n",
    "    print (\"Starting at:\" , datetime.datetime.now())\n",
    "    sess.run(tf.global_variables_initializer())\n",
    "    print (\"Initialization done at:\" , datetime.datetime.now())\n",
    "    \n",
    "    n_samples = 100\n",
    "    mu, sigma = 10, 10\n",
    "    X = np.array([np.random.normal(mu, sigma, Placeholders.word_vec_dim) for i in range(n_samples)])\n",
    "    Y = np.zeros(n_samples, dtype=np.int16)\n",
    "    mu, sigma = 50, 10\n",
    "    X = np.vstack((X, np.array([np.random.normal(mu, sigma, Placeholders.word_vec_dim) for i in range(n_samples)])))\n",
    "    Y = np.vstack((Y,np.ones(n_samples,dtype=np.int16))).reshape(-1,n_samples *2 )\n",
    "    print(Y)\n",
    "    print (X.shape,Y.shape)\n",
    "    Y = one_hot(Y)\n",
    "    print (X.shape,Y.shape)\n",
    "    C = np.ones(Placeholders.word_vec_dim)*10\n",
    "    C = np.vstack((C,np.ones(Placeholders.word_vec_dim)*50))\n",
    "    \n",
    "    #sess.run(train_step, feed_dict={x: X, y_: Y, c:C})\n",
    "    \n",
    "    for i in range(STEPS):\n",
    "        random_index = random.randint(0,n_samples * 2 - MINIBATCH_SIZE - 1)\n",
    "        random_X = X[random_index + MINIBATCH_SIZE,:].reshape(-1, Placeholders.word_vec_dim)\n",
    "        random_Y = Y[random_index + MINIBATCH_SIZE,:].reshape(-1, Placeholders.n_classes)\n",
    "        print(random_X.shape)\n",
    "        sess.run(train_step, feed_dict={x: random_X, y_: random_Y, c:C})\n",
    "        acc = sess.run(accuracy, feed_dict={x: X, y_: Y, c:C})*100\n",
    "        print (acc)\n",
    "\n",
    "    "
   ]
  },
  {
   "cell_type": "code",
   "execution_count": null,
   "metadata": {},
   "outputs": [],
   "source": []
  },
  {
   "cell_type": "code",
   "execution_count": null,
   "metadata": {},
   "outputs": [],
   "source": []
  },
  {
   "cell_type": "code",
   "execution_count": null,
   "metadata": {},
   "outputs": [],
   "source": []
  },
  {
   "cell_type": "code",
   "execution_count": null,
   "metadata": {},
   "outputs": [],
   "source": []
  },
  {
   "cell_type": "code",
   "execution_count": null,
   "metadata": {},
   "outputs": [],
   "source": []
  },
  {
   "cell_type": "code",
   "execution_count": null,
   "metadata": {},
   "outputs": [],
   "source": [
    "with tf.Session() as sess:\n",
    "    train(sess)"
   ]
  },
  {
   "cell_type": "code",
   "execution_count": null,
   "metadata": {},
   "outputs": [],
   "source": []
  },
  {
   "cell_type": "code",
   "execution_count": null,
   "metadata": {},
   "outputs": [],
   "source": []
  },
  {
   "cell_type": "code",
   "execution_count": null,
   "metadata": {},
   "outputs": [],
   "source": []
  },
  {
   "cell_type": "code",
   "execution_count": null,
   "metadata": {},
   "outputs": [],
   "source": []
  },
  {
   "cell_type": "code",
   "execution_count": null,
   "metadata": {},
   "outputs": [],
   "source": []
  },
  {
   "cell_type": "code",
   "execution_count": null,
   "metadata": {},
   "outputs": [],
   "source": []
  }
 ],
 "metadata": {
  "kernelspec": {
   "display_name": "Python 3",
   "language": "python",
   "name": "python3"
  },
  "language_info": {
   "codemirror_mode": {
    "name": "ipython",
    "version": 3
   },
   "file_extension": ".py",
   "mimetype": "text/x-python",
   "name": "python",
   "nbconvert_exporter": "python",
   "pygments_lexer": "ipython3",
   "version": "3.6.4"
  }
 },
 "nbformat": 4,
 "nbformat_minor": 2
}
