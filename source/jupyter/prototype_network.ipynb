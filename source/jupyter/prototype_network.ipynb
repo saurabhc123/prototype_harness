{
 "cells": [
  {
   "cell_type": "code",
   "execution_count": null,
   "metadata": {},
   "outputs": [],
   "source": [
    "import gensim\n",
    "import numpy as np\n",
    "import string\n",
    "import tensorflow as tf\n",
    "import tensorflow.contrib.slim as slim\n",
    "import Placeholders\n",
    "import datetime\n",
    "import random as random"
   ]
  },
  {
   "cell_type": "code",
   "execution_count": null,
   "metadata": {},
   "outputs": [],
   "source": [
    "x = Placeholders.sentence\n",
    "y_ = Placeholders.class_labels\n",
    "c = Placeholders.class_centroids"
   ]
  },
  {
   "cell_type": "code",
   "execution_count": null,
   "metadata": {},
   "outputs": [],
   "source": [
    "def get_cluster_based_labels(fc_layer_representation):\n",
    "    indexed_centroids = tf.matmul(y_,c)\n",
    "    print(indexed_centroids)\n",
    "    x_distances = tf.exp(-(tf.square(fc_layer_representation - indexed_centroids)))\n",
    "    sum_x_distances = tf.log(tf.reduce_sum(x_distances))\n",
    "    logits = tf.divide(x_distances, sum_x_distances)\n",
    "    return logits\n",
    "\n",
    "def get_cluster_based_labels1(fc_layer_representation):\n",
    "    centroid0_distances = -tf.reduce_sum(tf.square(fc_layer_representation - c[0]),1)\n",
    "    centroid1_distances = -tf.reduce_sum(tf.square(fc_layer_representation - c[1]),1)\n",
    "    print(\"centroid:\",tf.shape(centroid1_distances))\n",
    "    x_distances = tf.reshape(tf.stack([centroid0_distances,centroid1_distances]),[-1,2])\n",
    "    print(\"centroid:\",tf.shape(x_distances))\n",
    "    #return x_distances\n",
    "    sum_x_distances = tf.reduce_sum(x_distances,1)\n",
    "    sum_x_distances = tf.reshape(sum_x_distances, (-1, 1))\n",
    "    logits = tf.divide(x_distances, sum_x_distances)\n",
    "    return logits\n",
    "\n",
    "def get_cluster_distance_loss(fc_layer_representation, centroid):\n",
    "    x_distances = tf.square(fc_layer_representation - centroid)\n",
    "    mean_x_distances = tf.reduce_mean(x_distances)\n",
    "    return mean_x_distances\n",
    "    "
   ]
  },
  {
   "cell_type": "code",
   "execution_count": null,
   "metadata": {},
   "outputs": [],
   "source": []
  },
  {
   "cell_type": "code",
   "execution_count": null,
   "metadata": {},
   "outputs": [],
   "source": [
    "def one_hot(vec, vals=Placeholders.n_classes):\n",
    "    n = vec.shape[1]\n",
    "    out = np.zeros((n, vals))\n",
    "    out[np.arange(n), vec] = 1\n",
    "    return out"
   ]
  },
  {
   "cell_type": "code",
   "execution_count": null,
   "metadata": {},
   "outputs": [],
   "source": [
    "def get_random_examples(data,labels,number_of_examples,label=0):\n",
    "    vector_encoded_labels = np.argmax(labels, axis=1)\n",
    "    requested_labeled_examples = data[vector_encoded_labels==label,:]\n",
    "    total_examples = requested_labeled_examples.shape[0]\n",
    "    random_index = random.randint(0,total_examples - number_of_examples - 1)\n",
    "    result = requested_labeled_examples[random_index:random_index+number_of_examples,:]\n",
    "    return result\n",
    "    "
   ]
  },
  {
   "cell_type": "code",
   "execution_count": null,
   "metadata": {},
   "outputs": [],
   "source": [
    "def get_centroid(support_examples,hidden2,sess):\n",
    "    hidden_vectors = sess.run(hidden2, feed_dict={x: support_examples})\n",
    "    centroid = np.mean(hidden_vectors,axis = 0)\n",
    "    return centroid\n",
    "    "
   ]
  },
  {
   "cell_type": "code",
   "execution_count": null,
   "metadata": {},
   "outputs": [],
   "source": [
    "def train(sess):\n",
    "    he_init = slim.variance_scaling_initializer()\n",
    "    hidden1 =tf.layers.dense(Placeholders.sentence, Placeholders.hidden1_neurons,activation=tf.nn.relu,kernel_initializer=he_init)\n",
    "    hidden2 =tf.layers.dense(Placeholders.sentence, Placeholders.hidden2_neurons,activation=tf.nn.relu,kernel_initializer=he_init)\n",
    "    \n",
    "    #Cluster based objective\n",
    "    cluster0_loss = get_cluster_distance_loss(hidden2,c[0])\n",
    "    cluster1_loss = get_cluster_distance_loss(hidden2,c[1])\n",
    "    logits = get_cluster_based_labels(hidden2)\n",
    "    \n",
    "    ##Basic Neural Network\n",
    "    #cluster_based_labels = hidden2\n",
    "    cross_entropy = tf.nn.softmax_cross_entropy_with_logits(logits= logits, labels=Placeholders.class_labels)\n",
    "    loss = tf.reduce_mean(cross_entropy)\n",
    "    #loss = cluster0_loss + cluster1_loss\n",
    "    train_step = tf.train.AdamOptimizer(1e-5).minimize(loss)\n",
    "\n",
    "    correct_prediction = tf.equal(tf.argmax(logits, 1), tf.argmax(Placeholders.class_labels, 1))\n",
    "    accuracy = tf.reduce_mean(tf.cast(correct_prediction, tf.float32))\n",
    "    \n",
    "    STEPS = 100000\n",
    "    MINIBATCH_SIZE = 20\n",
    "    \n",
    "    print (\"Starting at:\" , datetime.datetime.now())\n",
    "    sess.run(tf.global_variables_initializer())\n",
    "    print (\"Initialization done at:\" , datetime.datetime.now())\n",
    "    \n",
    "    n_samples = 100\n",
    "    mu, sigma = 10, 10\n",
    "    X = np.array([np.random.normal(mu, sigma, Placeholders.word_vec_dim) for i in range(n_samples)])\n",
    "    Y = np.zeros(n_samples, dtype=np.int16)\n",
    "    X_validation= np.array([np.random.normal(mu, sigma, Placeholders.word_vec_dim) for i in range(n_samples)])\n",
    "    Y_validation = np.zeros(n_samples, dtype=np.int16)\n",
    "    X_test = np.array([np.random.normal(mu, sigma, Placeholders.word_vec_dim) for i in range(n_samples)])\n",
    "    Y_test = np.zeros(n_samples, dtype=np.int16)\n",
    "    mu, sigma = 50, 10\n",
    "    X = np.vstack((X, np.array([np.random.normal(mu, sigma, Placeholders.word_vec_dim) for i in range(n_samples)])))\n",
    "    Y = np.vstack((Y,np.ones(n_samples,dtype=np.int16))).reshape(-1,n_samples *2 )\n",
    "    X_test = np.vstack((X_test, np.array([np.random.normal(mu, sigma, Placeholders.word_vec_dim) for i in range(n_samples)])))\n",
    "    Y_test = np.vstack((Y_test,np.ones(n_samples,dtype=np.int16))).reshape(-1,n_samples *2 )\n",
    "    X_validation = np.vstack((X_validation, np.array([np.random.normal(mu, sigma, Placeholders.word_vec_dim) for i in range(n_samples)])))\n",
    "    Y_validation = np.vstack((Y_validation,np.ones(n_samples,dtype=np.int16))).reshape(-1,n_samples *2 )\n",
    "    #print(Y)\n",
    "    Y = one_hot(Y)\n",
    "    Y_test= one_hot(Y_test)\n",
    "    Y_validation= one_hot(Y_validation)\n",
    "    #print (X.shape,Y.shape)\n",
    "    C = np.ones(Placeholders.hidden2_neurons)*10\n",
    "    C = np.vstack((C,np.ones(Placeholders.hidden2_neurons)*50)).reshape(-1,Placeholders.hidden2_neurons)\n",
    "    \n",
    "    processed_set = X\n",
    "    \n",
    "    SUPPORT_SIZE = 10\n",
    "    QUERY_SIZE = 20\n",
    "    \n",
    "    init = tf.global_variables_initializer()\n",
    "    sess.run(init)\n",
    "    \n",
    "    for i in range(STEPS):\n",
    "        #Get the QUERY SET \n",
    "        random_index = random.randint(0,n_samples * 2 - QUERY_SIZE - 1)\n",
    "        random_X = X[random_index : random_index + QUERY_SIZE,:].reshape(-1, Placeholders.word_vec_dim)\n",
    "        random_Y = Y[random_index : random_index + QUERY_SIZE,:].reshape(-1, Placeholders.n_classes)\n",
    "\n",
    "        random_support_positive_examples = get_random_examples(X,Y,SUPPORT_SIZE,1)\n",
    "        random_support_negative_examples = get_random_examples(X,Y,SUPPORT_SIZE,0)\n",
    "        \n",
    "        c_zero = get_centroid(random_support_negative_examples,hidden2,sess)\n",
    "        c_one = get_centroid(random_support_positive_examples,hidden2,sess)\n",
    "        C = np.vstack((c_zero,c_one))\n",
    "        \n",
    "        sess.run(train_step, feed_dict={x: random_X, y_: random_Y, c:C})\n",
    "        \n",
    "        if(i%2500 == 0):\n",
    "            #logits = sess.run(logits, feed_dict={x: random_X, y_: random_Y, c:C})\n",
    "            #print(logits)\n",
    "            training_accuracy = sess.run(accuracy, feed_dict={x: random_X, y_: random_Y, c:C})*100\n",
    "            training_loss = sess.run(loss, feed_dict={x: random_X, y_: random_Y, c:C})\n",
    "            print(\"Training Accuracy: {0:.2f}\".format(training_accuracy), \" Training Loss: {0:.2f}\".format(training_loss))\n",
    "            validation_accuracy = sess.run(accuracy, feed_dict={x: X_validation, y_: Y_validation, c:C})*100\n",
    "            test_accuracy = sess.run(accuracy, feed_dict={x: X_test, y_: Y_test, c:C})*100\n",
    "            print(\"Validation Accuracy: {0:.2f}\".format(validation_accuracy), \" Test Accuracy: {0:.2f}\".format(test_accuracy))\n",
    "\n",
    "    "
   ]
  },
  {
   "cell_type": "code",
   "execution_count": null,
   "metadata": {},
   "outputs": [],
   "source": [
    "with tf.Session() as sess:\n",
    "    train(sess)"
   ]
  }
 ],
 "metadata": {
  "kernelspec": {
   "display_name": "Python 3",
   "language": "python",
   "name": "python3"
  },
  "language_info": {
   "codemirror_mode": {
    "name": "ipython",
    "version": 3
   },
   "file_extension": ".py",
   "mimetype": "text/x-python",
   "name": "python",
   "nbconvert_exporter": "python",
   "pygments_lexer": "ipython3",
   "version": "3.6.4"
  }
 },
 "nbformat": 4,
 "nbformat_minor": 2
}
