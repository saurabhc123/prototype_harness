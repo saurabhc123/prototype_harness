{
 "cells": [
  {
   "cell_type": "code",
   "execution_count": 1,
   "metadata": {},
   "outputs": [
    {
     "name": "stderr",
     "output_type": "stream",
     "text": [
      "/Library/Frameworks/Python.framework/Versions/3.6/lib/python3.6/importlib/_bootstrap.py:219: RuntimeWarning: compiletime version 3.5 of module 'tensorflow.python.framework.fast_tensor_util' does not match runtime version 3.6\n",
      "  return f(*args, **kwds)\n"
     ]
    }
   ],
   "source": [
    "import gensim\n",
    "import numpy as np\n",
    "import string\n",
    "import tensorflow as tf\n",
    "import tensorflow.contrib.slim as slim\n",
    "import Placeholders\n",
    "import datetime\n",
    "import random as random"
   ]
  },
  {
   "cell_type": "code",
   "execution_count": 2,
   "metadata": {},
   "outputs": [],
   "source": [
    "x = Placeholders.sentence\n",
    "y_ = Placeholders.class_labels\n",
    "c = Placeholders.class_centroids"
   ]
  },
  {
   "cell_type": "code",
   "execution_count": 3,
   "metadata": {},
   "outputs": [],
   "source": [
    "def get_cluster_based_labels(fc_layer_representation):\n",
    "    indexed_centroids = tf.matmul(y_,c)\n",
    "    print(indexed_centroids)\n",
    "    x_distances = tf.exp(-(tf.square(fc_layer_representation - indexed_centroids)))\n",
    "    sum_x_distances = tf.log(tf.reduce_sum(x_distances))\n",
    "    logits = tf.divide(x_distances, sum_x_distances)\n",
    "    return logits\n",
    "\n",
    "def get_cluster_distance_loss(fc_layer_representation, centroid):\n",
    "    x_distances = tf.square(fc_layer_representation - centroid)\n",
    "    mean_x_distances = tf.reduce_mean(x_distances)\n",
    "    return mean_x_distances\n",
    "    "
   ]
  },
  {
   "cell_type": "code",
   "execution_count": null,
   "metadata": {},
   "outputs": [],
   "source": []
  },
  {
   "cell_type": "code",
   "execution_count": 4,
   "metadata": {},
   "outputs": [],
   "source": [
    "def one_hot(vec, vals=Placeholders.n_classes):\n",
    "    n = vec.shape[1]\n",
    "    out = np.zeros((n, vals))\n",
    "    out[np.arange(n), vec] = 1\n",
    "    return out"
   ]
  },
  {
   "cell_type": "code",
   "execution_count": 5,
   "metadata": {},
   "outputs": [],
   "source": [
    "def get_random_examples(data,labels,number_of_examples,label=0):\n",
    "    vector_encoded_labels = np.argmax(labels, axis=1)\n",
    "    requested_labeled_examples = data[vector_encoded_labels==label,:]\n",
    "    requested_labels = labels[vector_encoded_labels==label,:]\n",
    "    total_examples = requested_labeled_examples.shape[0]\n",
    "    random_index = random.randint(0,total_examples - number_of_examples - 1)\n",
    "    result = requested_labeled_examples[random_index:random_index+number_of_examples,:]\n",
    "    labels = requested_labels[random_index:random_index+number_of_examples,:]\n",
    "    return result, labels\n",
    "    "
   ]
  },
  {
   "cell_type": "code",
   "execution_count": 6,
   "metadata": {},
   "outputs": [],
   "source": [
    "def get_centroid(support_examples,hidden2,sess):\n",
    "    hidden_vectors = sess.run(hidden2, feed_dict={x: support_examples})\n",
    "    centroid = np.mean(hidden_vectors,axis = 0)\n",
    "    return centroid\n",
    "    "
   ]
  },
  {
   "cell_type": "code",
   "execution_count": 7,
   "metadata": {},
   "outputs": [],
   "source": [
    "def train(sess):\n",
    "    he_init = slim.variance_scaling_initializer()\n",
    "    hidden1 =tf.layers.dense(Placeholders.sentence, Placeholders.hidden1_neurons,activation=tf.nn.relu,kernel_initializer=he_init)\n",
    "    hidden2 =tf.layers.dense(Placeholders.sentence, Placeholders.hidden2_neurons,activation=tf.nn.relu,kernel_initializer=he_init)\n",
    "    ##Basic Neural Network\n",
    "    #cluster_based_labels = hidden2\n",
    "    #Cluster based objective\n",
    "    cluster_based_labels = get_cluster_based_labels(hidden2)\n",
    "    logits = tf.layers.dense(cluster_based_labels, Placeholders.n_classes)\n",
    "    cross_entropy = tf.nn.softmax_cross_entropy_with_logits(logits= logits,\n",
    "                                                                   labels=Placeholders.class_labels)\n",
    "    loss = tf.reduce_mean(cross_entropy)\n",
    "    train_step = tf.train.AdamOptimizer(1e-5).minimize(loss)\n",
    "\n",
    "    correct_prediction = tf.equal(tf.argmax(logits, 1), tf.argmax(Placeholders.class_labels, 1))\n",
    "    accuracy = tf.reduce_mean(tf.cast(correct_prediction, tf.float32))\n",
    "    \n",
    "    STEPS = 50000\n",
    "    MINIBATCH_SIZE = 20\n",
    "    \n",
    "    print (\"Starting at:\" , datetime.datetime.now())\n",
    "    sess.run(tf.global_variables_initializer())\n",
    "    print (\"Initialization done at:\" , datetime.datetime.now())\n",
    "    \n",
    "    \n",
    "    n_samples = 20\n",
    "    n_test_samples = 100\n",
    "    mu, sigma = 10, 10\n",
    "    X = np.array([np.random.normal(mu, sigma, Placeholders.word_vec_dim) for i in range(n_samples)])\n",
    "    Y = np.zeros(n_samples, dtype=np.int16)\n",
    "    \n",
    "    X_validation= np.array([np.random.normal(mu, sigma, Placeholders.word_vec_dim) for i in range(n_samples)])\n",
    "    Y_validation = np.zeros(n_samples, dtype=np.int16)\n",
    "    X_test = np.array([np.random.normal(mu, sigma, Placeholders.word_vec_dim) for i in range(n_test_samples)])\n",
    "    Y_test = np.zeros(n_test_samples, dtype=np.int16)\n",
    "    \n",
    "    mu, sigma = 50, 10\n",
    "    \n",
    "    X = np.vstack((X, np.array([np.random.normal(mu, sigma, Placeholders.word_vec_dim) for i in range(n_samples)])))\n",
    "    Y = np.vstack((Y,np.ones(n_samples,dtype=np.int16))).reshape(-1,n_samples *2 )\n",
    "    \n",
    "    X_test = np.vstack((X_test, np.array([np.random.normal(mu, sigma, Placeholders.word_vec_dim) for i in range(n_test_samples)])))\n",
    "    Y_test = np.vstack((Y_test,np.ones(n_test_samples,dtype=np.int16))).reshape(-1,n_test_samples *2 )\n",
    "    X_validation = np.vstack((X_validation, np.array([np.random.normal(mu, sigma, Placeholders.word_vec_dim) for i in range(n_samples)])))\n",
    "    Y_validation = np.vstack((Y_validation,np.ones(n_samples,dtype=np.int16))).reshape(-1,n_samples *2 )\n",
    "    #print(Y)\n",
    "    Y = one_hot(Y)\n",
    "    Y_test= one_hot(Y_test)\n",
    "    Y_validation= one_hot(Y_validation)\n",
    "    #print (X.shape,Y.shape)\n",
    "    C = np.ones(Placeholders.hidden2_neurons)*10\n",
    "    C = np.vstack((C,np.ones(Placeholders.hidden2_neurons)*50)).reshape(-1,Placeholders.hidden2_neurons)\n",
    "    \n",
    "    #sess.run(train_step, feed_dict={x: X, y_: Y, c:C})\n",
    "    SUPPORT_SIZE = 8\n",
    "    QUERY_SIZE = 8\n",
    "    \n",
    "    init = tf.global_variables_initializer()\n",
    "    sess.run(init)\n",
    "    \n",
    "    for i in range(STEPS):\n",
    "        random_positive_examples, positive_labels = get_random_examples(X,Y,SUPPORT_SIZE + QUERY_SIZE,1)\n",
    "        random_negative_examples, negative_labels = get_random_examples(X,Y,SUPPORT_SIZE + QUERY_SIZE,0)\n",
    "         \n",
    "        support_positive_examples = random_positive_examples[:SUPPORT_SIZE]\n",
    "        support_negative_examples = random_negative_examples[:SUPPORT_SIZE]\n",
    "        query_positive_examples = random_positive_examples[SUPPORT_SIZE:SUPPORT_SIZE + QUERY_SIZE].reshape(-1, Placeholders.word_vec_dim)\n",
    "        query_negative_examples = random_negative_examples[SUPPORT_SIZE:SUPPORT_SIZE + QUERY_SIZE].reshape(-1, Placeholders.word_vec_dim)\n",
    "        query_positive_labels = positive_labels[SUPPORT_SIZE:SUPPORT_SIZE + QUERY_SIZE].reshape(-1, Placeholders.n_classes)\n",
    "        query_negative_labels = negative_labels[SUPPORT_SIZE:SUPPORT_SIZE + QUERY_SIZE].reshape(-1, Placeholders.n_classes)\n",
    "        \n",
    "        random_X = np.vstack((query_positive_examples,query_negative_examples))\n",
    "        random_Y = np.vstack((query_positive_labels,query_negative_labels))\n",
    "        \n",
    "        c_zero = get_centroid(support_positive_examples,hidden2,sess)\n",
    "        c_one = get_centroid(support_negative_examples,hidden2,sess)\n",
    "        C = np.vstack((c_zero,c_one))\n",
    "        \n",
    "        sess.run(train_step, feed_dict={x: random_X, y_: random_Y, c:C})\n",
    "        \n",
    "        if(i%2500 == 0):\n",
    "            #logits = sess.run(logits, feed_dict={x: random_X, y_: random_Y, c:C})\n",
    "            #print(logits)\n",
    "            training_accuracy = sess.run(accuracy, feed_dict={x: random_X, y_: random_Y, c:C})*100\n",
    "            training_loss = sess.run(loss, feed_dict={x: random_X, y_: random_Y, c:C})\n",
    "            print(\"Training Accuracy: {0:.2f}\".format(training_accuracy), \" Training Loss: {0:.2f}\".format(training_loss))\n",
    "            validation_accuracy = sess.run(accuracy, feed_dict={x: X_validation, y_: Y_validation, c:C})*100\n",
    "            test_accuracy = sess.run(accuracy, feed_dict={x: X_test, y_: Y_test, c:C})*100\n",
    "            print(\"Validation Accuracy: {0:.2f}\".format(validation_accuracy), \" Test Accuracy: {0:.2f}\".format(test_accuracy))"
   ]
  },
  {
   "cell_type": "code",
   "execution_count": 8,
   "metadata": {},
   "outputs": [
    {
     "name": "stdout",
     "output_type": "stream",
     "text": [
      "Starting at: 2018-02-12 19:43:14.856089\n",
      "Initialization done at: 2018-02-12 19:43:14.990008\n",
      "Training Accuracy: 50.00  Training Loss: 33.79\n",
      "Validation Accuracy: 50.00  Test Accuracy: 50.00\n",
      "Training Accuracy: 100.00  Training Loss: 0.00\n",
      "Validation Accuracy: 57.50  Test Accuracy: 50.50\n",
      "Training Accuracy: 100.00  Training Loss: 0.00\n",
      "Validation Accuracy: 57.50  Test Accuracy: 52.50\n",
      "Training Accuracy: 100.00  Training Loss: 0.00\n",
      "Validation Accuracy: 57.50  Test Accuracy: 53.00\n",
      "Training Accuracy: 100.00  Training Loss: 0.00\n",
      "Validation Accuracy: 57.50  Test Accuracy: 54.00\n",
      "Training Accuracy: 100.00  Training Loss: 0.00\n",
      "Validation Accuracy: 57.50  Test Accuracy: 54.50\n",
      "Training Accuracy: 100.00  Training Loss: 0.00\n",
      "Validation Accuracy: 57.50  Test Accuracy: 54.00\n",
      "Training Accuracy: 100.00  Training Loss: 0.00\n",
      "Validation Accuracy: 60.00  Test Accuracy: 54.00\n",
      "Training Accuracy: 100.00  Training Loss: 0.00\n",
      "Validation Accuracy: 60.00  Test Accuracy: 54.50\n",
      "Training Accuracy: 100.00  Training Loss: 0.00\n",
      "Validation Accuracy: 65.00  Test Accuracy: 55.00\n",
      "Training Accuracy: 100.00  Training Loss: 0.00\n",
      "Validation Accuracy: 67.50  Test Accuracy: 55.50\n",
      "Training Accuracy: 100.00  Training Loss: 0.00\n",
      "Validation Accuracy: 70.00  Test Accuracy: 55.50\n",
      "Training Accuracy: 100.00  Training Loss: 0.00\n",
      "Validation Accuracy: 62.50  Test Accuracy: 56.50\n",
      "Training Accuracy: 100.00  Training Loss: 0.00\n",
      "Validation Accuracy: 65.00  Test Accuracy: 58.00\n",
      "Training Accuracy: 100.00  Training Loss: 0.00\n",
      "Validation Accuracy: 65.00  Test Accuracy: 58.50\n",
      "Training Accuracy: 100.00  Training Loss: 0.00\n",
      "Validation Accuracy: 65.00  Test Accuracy: 60.00\n",
      "Training Accuracy: 100.00  Training Loss: 0.00\n",
      "Validation Accuracy: 65.00  Test Accuracy: 61.00\n",
      "Training Accuracy: 100.00  Training Loss: 0.00\n",
      "Validation Accuracy: 65.00  Test Accuracy: 60.50\n",
      "Training Accuracy: 100.00  Training Loss: 0.00\n",
      "Validation Accuracy: 65.00  Test Accuracy: 61.50\n",
      "Training Accuracy: 100.00  Training Loss: 0.00\n",
      "Validation Accuracy: 67.50  Test Accuracy: 62.00\n"
     ]
    }
   ],
   "source": [
    "with tf.Session() as sess:\n",
    "    train(sess)"
   ]
  }
 ],
 "metadata": {
  "kernelspec": {
   "display_name": "Python 3",
   "language": "python",
   "name": "python3"
  },
  "language_info": {
   "codemirror_mode": {
    "name": "ipython",
    "version": 3
   },
   "file_extension": ".py",
   "mimetype": "text/x-python",
   "name": "python",
   "nbconvert_exporter": "python",
   "pygments_lexer": "ipython3",
   "version": "3.6.4"
  }
 },
 "nbformat": 4,
 "nbformat_minor": 2
}
